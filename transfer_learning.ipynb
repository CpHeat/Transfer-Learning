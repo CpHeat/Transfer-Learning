{
 "cells": [
  {
   "cell_type": "code",
   "execution_count": null,
   "id": "aeb7d1eb",
   "metadata": {},
   "outputs": [],
   "source": []
  },
  {
   "cell_type": "markdown",
   "id": "5b0fccc0",
   "metadata": {},
   "source": [
    "etapes\n",
    "\n",
    "imports & paramètres\n",
    "recupération du dataset\n",
    "- recuperation automatisée\n",
    "exploration du dataset\n",
    "- on va chercher les tailles, ratio, profil de couleurs des images pr decider de comment les gérer\n",
    "traitement des images\n",
    "- on les rend carrées sans les crop, en ajoutant des bandes noires\n",
    "-on les converti au profil de couleur atendu opar le modele\n",
    "- on les stocke lcoalement\n",
    "stockage et preprocessing\n",
    "- on les standardise\n",
    "definition du modele\n",
    "choix entre vgg16, resnet, efficientnetb0 et densenet121\n",
    "ideal : chexnet basé sur densenet121\n",
    "\n",
    "entrainement du modele\n",
    "test du modele\n",
    "sauvegarde du modele"
   ]
  }
 ],
 "metadata": {
  "kernelspec": {
   "display_name": ".venv",
   "language": "python",
   "name": "python3"
  },
  "language_info": {
   "name": "python",
   "version": "3.12.3"
  }
 },
 "nbformat": 4,
 "nbformat_minor": 5
}
