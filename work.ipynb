{
 "cells": [
  {
   "cell_type": "code",
   "execution_count": 1,
   "id": "3d2845fd",
   "metadata": {},
   "outputs": [],
   "source": [
    "import os\n",
    "import shutil\n",
    "\n",
    "import pandas as pd\n",
    "import kagglehub\n",
    "import matplotlib.pyplot as plt\n",
    "import seaborn as sns\n",
    "import tensorflow as tf\n",
    "from tensorflow.keras import layers, models, optimizers\n",
    "from tensorflow.keras.utils import to_categorical\n",
    "import mlflow\n",
    "from mlflow.models.signature import infer_signature\n",
    "import numpy as np\n",
    "from sklearn.utils.class_weight import compute_class_weight\n",
    "from sklearn.metrics import confusion_matrix\n",
    "\n",
    "from settings import params, model_name, folders\n",
    "from functions.image.img_analysis import get_images_info\n",
    "from functions.image.img_treatment import prepare_data\n",
    "from functions.visualizations.img_show import show_images\n",
    "from functions.visualizations.show_predictions import show_predictions\n",
    "from functions.data import get_train_test\n",
    "import functions.models\n",
    "\n",
    "# Sets the number of threads\n",
    "tf.config.threading.set_inter_op_parallelism_threads(2)\n",
    "tf.config.threading.set_intra_op_parallelism_threads(12)\n",
    "os.environ[\"TF_ENABLE_ONEDNN_OPTS\"] = \"0\""
   ]
  },
  {
   "cell_type": "code",
   "execution_count": null,
   "id": "76687529",
   "metadata": {},
   "outputs": [],
   "source": [
    "# Download latest version of dataset and store it locally\n",
    "path = kagglehub.dataset_download(\"paultimothymooney/chest-xray-pneumonia\")\n",
    "\n",
    "target_dir = \"data\"\n",
    "os.makedirs(target_dir, exist_ok=True)\n",
    "shutil.move(path, target_dir)\n",
    "removable_folder_paths = (\"data/chest_xray/\", \"data/2/chest_xray/chest_xray\")\n",
    "for folder_path in removable_folder_paths:\n",
    "    if os.path.exists(folder_path) and os.path.isdir(folder_path):\n",
    "        shutil.rmtree(folder_path)"
   ]
  },
  {
   "cell_type": "code",
   "execution_count": null,
   "id": "5af60a25",
   "metadata": {},
   "outputs": [],
   "source": [
    "# Analyser les images\n",
    "df_train_images = get_images_info(folders[\"train\"][\"input\"])\n",
    "df_train_valid = df_train_images[df_train_images[\"error\"] == False]\n",
    "\n",
    "# Identifier les images extrêmes\n",
    "extremes = pd.concat([\n",
    "    df_train_valid.loc[df_train_valid[\"width\"].idxmax()],\n",
    "    df_train_valid.loc[df_train_valid[\"width\"].idxmin()],\n",
    "    df_train_valid.loc[df_train_valid[\"height\"].idxmax()],\n",
    "    df_train_valid.loc[df_train_valid[\"height\"].idxmin()],\n",
    "    df_train_valid.loc[df_train_valid[\"aspect_ratio\"].idxmax()],\n",
    "    df_train_valid.loc[df_train_valid[\"aspect_ratio\"].idxmin()],\n",
    "], axis=1).T.drop_duplicates()\n",
    "\n",
    "# Aperçu\n",
    "print(df_train_images.head())\n",
    "# Statistiques\n",
    "print(df_train_images.describe())\n",
    "# Affichage en tableau\n",
    "print(\"\\nImages aux valeurs extrêmes :\")\n",
    "print(extremes.sort_values(by=[\"width\", \"height\"], ascending=[False, False]))\n",
    "\n",
    "# Effectif de chaque catégorie d'entrainement: le dataset est déséquilibré\n",
    "split_path = \"data/2/chest_xray/train\"\n",
    "for category in [\"NORMAL\", \"PNEUMONIA\"]:\n",
    "    category_path = split_path + '/' + category\n",
    "    count = len([\n",
    "            f for f in os.listdir(category_path)\n",
    "        ])\n",
    "    print(f\"{category}: {count} images\")\n",
    "\n",
    "# Affichage des images extrêmes\n",
    "show_images(extremes.reset_index(drop=True), folder_path=folders[\"train\"][\"input\"])"
   ]
  },
  {
   "cell_type": "code",
   "execution_count": null,
   "id": "b1cc4e75",
   "metadata": {},
   "outputs": [],
   "source": [
    "# Transformation des images\n",
    "for folder in folders:\n",
    "    prepare_data(folders[folder][\"input\"], folders[folder][\"output\"])"
   ]
  },
  {
   "cell_type": "code",
   "execution_count": 2,
   "id": "1ddae61e",
   "metadata": {},
   "outputs": [],
   "source": [
    "# Préparation des données de travail\n",
    "X_train, y_train = get_train_test(folders[\"train\"][\"output\"])\n",
    "X_test, y_test = get_train_test(folders[\"test\"][\"output\"])\n",
    "X_val, y_val = get_train_test(folders[\"val\"][\"output\"])\n",
    "\n",
    "# Rééquilibrage du dataset\n",
    "class_weight_dict = {0: 1.0, 1: 1.0}\n",
    "if params[\"equilibrate\"]:\n",
    "    class_weights = compute_class_weight(\n",
    "        class_weight='balanced',\n",
    "        classes=np.unique(y_train),\n",
    "        y=y_train\n",
    "    )\n",
    "    class_weight_dict = dict(enumerate(class_weights))"
   ]
  },
  {
   "cell_type": "code",
   "execution_count": null,
   "id": "f92415fd",
   "metadata": {},
   "outputs": [],
   "source": [
    "# Echantillonnage pour vérification\n",
    "# Sélectionner les indices des labels\n",
    "indices_label_0 = [i for i, y in enumerate(y_train) if y == 0][:5]\n",
    "indices_label_1 = [i for i, y in enumerate(y_train) if y == 1][:5]\n",
    "\n",
    "# Fusionner les indices sélectionnés\n",
    "selected_indices = indices_label_0 + indices_label_1\n",
    "\n",
    "# Affichage\n",
    "plt.figure(figsize=(15, 3))\n",
    "for idx, i in enumerate(selected_indices):\n",
    "    plt.subplot(1, 10, idx + 1)\n",
    "    plt.imshow(X_train[i], cmap=\"gray\")\n",
    "    plt.title(f\"Label: {y_train[i]}\", fontsize=8)\n",
    "    plt.axis(\"off\")\n",
    "\n",
    "plt.tight_layout()\n",
    "plt.show()"
   ]
  },
  {
   "cell_type": "code",
   "execution_count": 3,
   "id": "5580bd35",
   "metadata": {},
   "outputs": [],
   "source": [
    "# Preprocessing\n",
    "X_train = X_train.astype(\"float32\")\n",
    "X_test = X_test.astype(\"float32\")\n",
    "\n",
    "# Normalisation : on divise les valeurs de pixels par 255 pour les ramener entre 0 et 1\n",
    "X_train /= 255.0\n",
    "X_test /= 255.0\n",
    "\n",
    "#Transform y_train, y_test to the shape expected by the model\n",
    "y_train = to_categorical(y_train, num_classes=2)\n",
    "y_test = to_categorical(y_test, num_classes=2)\n",
    "y_val = to_categorical(y_val, num_classes=2)\n",
    "\n",
    "# On n'aplatit pas maintenant car les convolution ont besoin de matrices"
   ]
  },
  {
   "cell_type": "code",
   "execution_count": 4,
   "id": "5128f4c6",
   "metadata": {},
   "outputs": [
    {
     "data": {
      "text/html": [
       "<pre style=\"white-space:pre;overflow-x:auto;line-height:normal;font-family:Menlo,'DejaVu Sans Mono',consolas,'Courier New',monospace\"><span style=\"font-weight: bold\">Model: \"sequential\"</span>\n",
       "</pre>\n"
      ],
      "text/plain": [
       "\u001b[1mModel: \"sequential\"\u001b[0m\n"
      ]
     },
     "metadata": {},
     "output_type": "display_data"
    },
    {
     "data": {
      "text/html": [
       "<pre style=\"white-space:pre;overflow-x:auto;line-height:normal;font-family:Menlo,'DejaVu Sans Mono',consolas,'Courier New',monospace\">┏━━━━━━━━━━━━━━━━━━━━━━━━━━━━━━━━━┳━━━━━━━━━━━━━━━━━━━━━━━━┳━━━━━━━━━━━━━━━┓\n",
       "┃<span style=\"font-weight: bold\"> Layer (type)                    </span>┃<span style=\"font-weight: bold\"> Output Shape           </span>┃<span style=\"font-weight: bold\">       Param # </span>┃\n",
       "┡━━━━━━━━━━━━━━━━━━━━━━━━━━━━━━━━━╇━━━━━━━━━━━━━━━━━━━━━━━━╇━━━━━━━━━━━━━━━┩\n",
       "│ vgg16 (<span style=\"color: #0087ff; text-decoration-color: #0087ff\">Functional</span>)              │ (<span style=\"color: #00d7ff; text-decoration-color: #00d7ff\">None</span>, <span style=\"color: #00af00; text-decoration-color: #00af00\">512</span>)            │    <span style=\"color: #00af00; text-decoration-color: #00af00\">14,714,688</span> │\n",
       "├─────────────────────────────────┼────────────────────────┼───────────────┤\n",
       "│ flatten (<span style=\"color: #0087ff; text-decoration-color: #0087ff\">Flatten</span>)               │ (<span style=\"color: #00d7ff; text-decoration-color: #00d7ff\">None</span>, <span style=\"color: #00af00; text-decoration-color: #00af00\">512</span>)            │             <span style=\"color: #00af00; text-decoration-color: #00af00\">0</span> │\n",
       "├─────────────────────────────────┼────────────────────────┼───────────────┤\n",
       "│ dense (<span style=\"color: #0087ff; text-decoration-color: #0087ff\">Dense</span>)                   │ (<span style=\"color: #00d7ff; text-decoration-color: #00d7ff\">None</span>, <span style=\"color: #00af00; text-decoration-color: #00af00\">256</span>)            │       <span style=\"color: #00af00; text-decoration-color: #00af00\">131,328</span> │\n",
       "├─────────────────────────────────┼────────────────────────┼───────────────┤\n",
       "│ dropout (<span style=\"color: #0087ff; text-decoration-color: #0087ff\">Dropout</span>)               │ (<span style=\"color: #00d7ff; text-decoration-color: #00d7ff\">None</span>, <span style=\"color: #00af00; text-decoration-color: #00af00\">256</span>)            │             <span style=\"color: #00af00; text-decoration-color: #00af00\">0</span> │\n",
       "├─────────────────────────────────┼────────────────────────┼───────────────┤\n",
       "│ dense_1 (<span style=\"color: #0087ff; text-decoration-color: #0087ff\">Dense</span>)                 │ (<span style=\"color: #00d7ff; text-decoration-color: #00d7ff\">None</span>, <span style=\"color: #00af00; text-decoration-color: #00af00\">2</span>)              │           <span style=\"color: #00af00; text-decoration-color: #00af00\">514</span> │\n",
       "└─────────────────────────────────┴────────────────────────┴───────────────┘\n",
       "</pre>\n"
      ],
      "text/plain": [
       "┏━━━━━━━━━━━━━━━━━━━━━━━━━━━━━━━━━┳━━━━━━━━━━━━━━━━━━━━━━━━┳━━━━━━━━━━━━━━━┓\n",
       "┃\u001b[1m \u001b[0m\u001b[1mLayer (type)                   \u001b[0m\u001b[1m \u001b[0m┃\u001b[1m \u001b[0m\u001b[1mOutput Shape          \u001b[0m\u001b[1m \u001b[0m┃\u001b[1m \u001b[0m\u001b[1m      Param #\u001b[0m\u001b[1m \u001b[0m┃\n",
       "┡━━━━━━━━━━━━━━━━━━━━━━━━━━━━━━━━━╇━━━━━━━━━━━━━━━━━━━━━━━━╇━━━━━━━━━━━━━━━┩\n",
       "│ vgg16 (\u001b[38;5;33mFunctional\u001b[0m)              │ (\u001b[38;5;45mNone\u001b[0m, \u001b[38;5;34m512\u001b[0m)            │    \u001b[38;5;34m14,714,688\u001b[0m │\n",
       "├─────────────────────────────────┼────────────────────────┼───────────────┤\n",
       "│ flatten (\u001b[38;5;33mFlatten\u001b[0m)               │ (\u001b[38;5;45mNone\u001b[0m, \u001b[38;5;34m512\u001b[0m)            │             \u001b[38;5;34m0\u001b[0m │\n",
       "├─────────────────────────────────┼────────────────────────┼───────────────┤\n",
       "│ dense (\u001b[38;5;33mDense\u001b[0m)                   │ (\u001b[38;5;45mNone\u001b[0m, \u001b[38;5;34m256\u001b[0m)            │       \u001b[38;5;34m131,328\u001b[0m │\n",
       "├─────────────────────────────────┼────────────────────────┼───────────────┤\n",
       "│ dropout (\u001b[38;5;33mDropout\u001b[0m)               │ (\u001b[38;5;45mNone\u001b[0m, \u001b[38;5;34m256\u001b[0m)            │             \u001b[38;5;34m0\u001b[0m │\n",
       "├─────────────────────────────────┼────────────────────────┼───────────────┤\n",
       "│ dense_1 (\u001b[38;5;33mDense\u001b[0m)                 │ (\u001b[38;5;45mNone\u001b[0m, \u001b[38;5;34m2\u001b[0m)              │           \u001b[38;5;34m514\u001b[0m │\n",
       "└─────────────────────────────────┴────────────────────────┴───────────────┘\n"
      ]
     },
     "metadata": {},
     "output_type": "display_data"
    },
    {
     "data": {
      "text/html": [
       "<pre style=\"white-space:pre;overflow-x:auto;line-height:normal;font-family:Menlo,'DejaVu Sans Mono',consolas,'Courier New',monospace\"><span style=\"font-weight: bold\"> Total params: </span><span style=\"color: #00af00; text-decoration-color: #00af00\">14,846,530</span> (56.64 MB)\n",
       "</pre>\n"
      ],
      "text/plain": [
       "\u001b[1m Total params: \u001b[0m\u001b[38;5;34m14,846,530\u001b[0m (56.64 MB)\n"
      ]
     },
     "metadata": {},
     "output_type": "display_data"
    },
    {
     "data": {
      "text/html": [
       "<pre style=\"white-space:pre;overflow-x:auto;line-height:normal;font-family:Menlo,'DejaVu Sans Mono',consolas,'Courier New',monospace\"><span style=\"font-weight: bold\"> Trainable params: </span><span style=\"color: #00af00; text-decoration-color: #00af00\">131,842</span> (515.01 KB)\n",
       "</pre>\n"
      ],
      "text/plain": [
       "\u001b[1m Trainable params: \u001b[0m\u001b[38;5;34m131,842\u001b[0m (515.01 KB)\n"
      ]
     },
     "metadata": {},
     "output_type": "display_data"
    },
    {
     "data": {
      "text/html": [
       "<pre style=\"white-space:pre;overflow-x:auto;line-height:normal;font-family:Menlo,'DejaVu Sans Mono',consolas,'Courier New',monospace\"><span style=\"font-weight: bold\"> Non-trainable params: </span><span style=\"color: #00af00; text-decoration-color: #00af00\">14,714,688</span> (56.13 MB)\n",
       "</pre>\n"
      ],
      "text/plain": [
       "\u001b[1m Non-trainable params: \u001b[0m\u001b[38;5;34m14,714,688\u001b[0m (56.13 MB)\n"
      ]
     },
     "metadata": {},
     "output_type": "display_data"
    }
   ],
   "source": [
    "# Création du modèle\n",
    "model = functions.models.initialize_vgg16_model()\n",
    "model.summary()"
   ]
  },
  {
   "cell_type": "code",
   "execution_count": 5,
   "id": "cf093e1c",
   "metadata": {},
   "outputs": [
    {
     "name": "stdout",
     "output_type": "stream",
     "text": [
      "Epoch 1/10\n",
      "\u001b[1m27/27\u001b[0m \u001b[32m━━━━━━━━━━━━━━━━━━━━\u001b[0m\u001b[37m\u001b[0m \u001b[1m137s\u001b[0m 5s/step - accuracy: 0.6416 - auc: 0.6936 - loss: 0.6438 - mean_squared_error: 0.2207 - precision: 0.6416 - recall: 0.6416 - val_accuracy: 0.5625 - val_auc: 0.5352 - val_loss: 4.1059 - val_mean_squared_error: 0.4407 - val_precision: 0.5625 - val_recall: 0.5625\n",
      "Epoch 2/10\n",
      "\u001b[1m27/27\u001b[0m \u001b[32m━━━━━━━━━━━━━━━━━━━━\u001b[0m\u001b[37m\u001b[0m \u001b[1m139s\u001b[0m 5s/step - accuracy: 0.8836 - auc: 0.9498 - loss: 0.3660 - mean_squared_error: 0.0871 - precision: 0.8836 - recall: 0.8836 - val_accuracy: 0.5625 - val_auc: 0.5352 - val_loss: 7.7378 - val_mean_squared_error: 0.4469 - val_precision: 0.5625 - val_recall: 0.5625\n",
      "Epoch 3/10\n",
      "\u001b[1m27/27\u001b[0m \u001b[32m━━━━━━━━━━━━━━━━━━━━\u001b[0m\u001b[37m\u001b[0m \u001b[1m137s\u001b[0m 5s/step - accuracy: 0.9024 - auc: 0.9648 - loss: 0.2748 - mean_squared_error: 0.0708 - precision: 0.9024 - recall: 0.9024 - val_accuracy: 0.5000 - val_auc: 0.5312 - val_loss: 9.1809 - val_mean_squared_error: 0.4788 - val_precision: 0.5000 - val_recall: 0.5000\n",
      "Epoch 4/10\n",
      "\u001b[1m27/27\u001b[0m \u001b[32m━━━━━━━━━━━━━━━━━━━━\u001b[0m\u001b[37m\u001b[0m \u001b[1m128s\u001b[0m 5s/step - accuracy: 0.9161 - auc: 0.9717 - loss: 0.2278 - mean_squared_error: 0.0629 - precision: 0.9161 - recall: 0.9161 - val_accuracy: 0.5000 - val_auc: 0.5312 - val_loss: 10.3716 - val_mean_squared_error: 0.4985 - val_precision: 0.5000 - val_recall: 0.5000\n",
      "Epoch 5/10\n",
      "\u001b[1m27/27\u001b[0m \u001b[32m━━━━━━━━━━━━━━━━━━━━\u001b[0m\u001b[37m\u001b[0m \u001b[1m128s\u001b[0m 5s/step - accuracy: 0.9300 - auc: 0.9776 - loss: 0.1902 - mean_squared_error: 0.0532 - precision: 0.9300 - recall: 0.9300 - val_accuracy: 0.5000 - val_auc: 0.5625 - val_loss: 8.9689 - val_mean_squared_error: 0.4558 - val_precision: 0.5000 - val_recall: 0.5000\n",
      "Epoch 6/10\n",
      "\u001b[1m27/27\u001b[0m \u001b[32m━━━━━━━━━━━━━━━━━━━━\u001b[0m\u001b[37m\u001b[0m \u001b[1m134s\u001b[0m 5s/step - accuracy: 0.9323 - auc: 0.9814 - loss: 0.1818 - mean_squared_error: 0.0513 - precision: 0.9323 - recall: 0.9323 - val_accuracy: 0.6250 - val_auc: 0.6016 - val_loss: 7.1551 - val_mean_squared_error: 0.3750 - val_precision: 0.6250 - val_recall: 0.6250\n",
      "Epoch 7/10\n",
      "\u001b[1m27/27\u001b[0m \u001b[32m━━━━━━━━━━━━━━━━━━━━\u001b[0m\u001b[37m\u001b[0m \u001b[1m130s\u001b[0m 5s/step - accuracy: 0.9378 - auc: 0.9825 - loss: 0.1721 - mean_squared_error: 0.0487 - precision: 0.9378 - recall: 0.9378 - val_accuracy: 0.6250 - val_auc: 0.6016 - val_loss: 6.8528 - val_mean_squared_error: 0.3752 - val_precision: 0.6250 - val_recall: 0.6250\n",
      "Epoch 8/10\n",
      "\u001b[1m27/27\u001b[0m \u001b[32m━━━━━━━━━━━━━━━━━━━━\u001b[0m\u001b[37m\u001b[0m \u001b[1m130s\u001b[0m 5s/step - accuracy: 0.9310 - auc: 0.9776 - loss: 0.1698 - mean_squared_error: 0.0552 - precision: 0.9310 - recall: 0.9310 - val_accuracy: 0.6875 - val_auc: 0.7148 - val_loss: 5.7195 - val_mean_squared_error: 0.3029 - val_precision: 0.6875 - val_recall: 0.6875\n",
      "Epoch 9/10\n",
      "\u001b[1m27/27\u001b[0m \u001b[32m━━━━━━━━━━━━━━━━━━━━\u001b[0m\u001b[37m\u001b[0m \u001b[1m130s\u001b[0m 5s/step - accuracy: 0.9415 - auc: 0.9832 - loss: 0.1543 - mean_squared_error: 0.0446 - precision: 0.9415 - recall: 0.9415 - val_accuracy: 0.6875 - val_auc: 0.7148 - val_loss: 6.1786 - val_mean_squared_error: 0.3087 - val_precision: 0.6875 - val_recall: 0.6875\n",
      "Epoch 10/10\n",
      "\u001b[1m27/27\u001b[0m \u001b[32m━━━━━━━━━━━━━━━━━━━━\u001b[0m\u001b[37m\u001b[0m \u001b[1m133s\u001b[0m 5s/step - accuracy: 0.9282 - auc: 0.9769 - loss: 0.1571 - mean_squared_error: 0.0563 - precision: 0.9282 - recall: 0.9282 - val_accuracy: 0.7500 - val_auc: 0.7500 - val_loss: 4.2713 - val_mean_squared_error: 0.2500 - val_precision: 0.7500 - val_recall: 0.7500\n"
     ]
    }
   ],
   "source": [
    "# Entrainement du modèle\n",
    "model_info = model.fit(\n",
    "    X_train, y_train,\n",
    "    epochs=params[\"epochs\"],\n",
    "    batch_size=params[\"batch_size\"],\n",
    "    validation_data=(X_val, y_val),\n",
    "    class_weight=class_weight_dict\n",
    ")"
   ]
  },
  {
   "cell_type": "code",
   "execution_count": 7,
   "id": "2fafa228",
   "metadata": {},
   "outputs": [
    {
     "data": {
      "image/png": "[encoded data removed]",
      "text/plain": [
       "<Figure size 640x480 with 1 Axes>"
      ]
     },
     "metadata": {},
     "output_type": "display_data"
    }
   ],
   "source": [
    "# Résultats d'entraînement du modèle\n",
    "plt.plot(model_info.history[\"recall\"], label='Train recall')\n",
    "plt.plot(model_info.history[\"val_recall\"], label='recall')\n",
    "plt.xlabel('Epoch')\n",
    "plt.ylabel('Recall')\n",
    "plt.title(\"MLP - Recall\")\n",
    "plt.legend()\n",
    "plt.grid(True)\n",
    "plt.show()"
   ]
  },
  {
   "cell_type": "code",
   "execution_count": 12,
   "id": "6ca7d10a",
   "metadata": {},
   "outputs": [
    {
     "name": "stdout",
     "output_type": "stream",
     "text": [
      "\u001b[1m20/20\u001b[0m \u001b[32m━━━━━━━━━━━━━━━━━━━━\u001b[0m\u001b[37m\u001b[0m \u001b[1m18s\u001b[0m 908ms/step\n"
     ]
    },
    {
     "data": {
      "image/png": "[encoded data removed]",
      "text/plain": [
       "<Figure size 640x480 with 2 Axes>"
      ]
     },
     "metadata": {},
     "output_type": "display_data"
    }
   ],
   "source": [
    "y_pred = model.predict(X_test)\n",
    "\n",
    "y_test_labels = np.argmax(y_test, axis=1)\n",
    "y_pred_labels = np.argmax(y_pred, axis=1)\n",
    "\n",
    "conf_matrix = confusion_matrix(y_test_labels, y_pred_labels)\n",
    "\n",
    "sns.heatmap(conf_matrix, fmt='d', annot=True)\n",
    "plt.xlabel(\"Prédiction\")\n",
    "plt.ylabel(\"Réalité\")\n",
    "plt.title(\"Matrice de confusion\")\n",
    "plt.show()"
   ]
  },
  {
   "cell_type": "code",
   "execution_count": 13,
   "id": "ed837817",
   "metadata": {},
   "outputs": [
    {
     "name": "stdout",
     "output_type": "stream",
     "text": [
      "\u001b[1m20/20\u001b[0m \u001b[32m━━━━━━━━━━━━━━━━━━━━\u001b[0m\u001b[37m\u001b[0m \u001b[1m18s\u001b[0m 863ms/step - accuracy: 0.6702 - auc: 0.7361 - loss: 0.7693 - mean_squared_error: 0.2766 - precision: 0.6702 - recall: 0.6702\n"
     ]
    }
   ],
   "source": [
    "# Log results\n",
    "results = {}\n",
    "results[\"loss\"], results[\"recall\"], results[\"accuracy\"], results[\"precision\"], results[\"auc\"], results[\"mean_squared_error\"] = model.evaluate(X_test, y_test)"
   ]
  },
  {
   "cell_type": "code",
   "execution_count": 15,
   "id": "fd0fb4cd",
   "metadata": {},
   "outputs": [
    {
     "ename": "MlflowException",
     "evalue": "Cannot set a deleted experiment 'Initial testing' as the active experiment. You can restore the experiment, or permanently delete the experiment to create a new one.",
     "output_type": "error",
     "traceback": [
      "\u001b[1;31m---------------------------------------------------------------------------\u001b[0m",
      "\u001b[1;31mMlflowException\u001b[0m                           Traceback (most recent call last)",
      "Cell \u001b[1;32mIn[15], line 2\u001b[0m\n\u001b[0;32m      1\u001b[0m \u001b[38;5;66;03m# Log into MLFlow\u001b[39;00m\n\u001b[1;32m----> 2\u001b[0m \u001b[43mmlflow\u001b[49m\u001b[38;5;241;43m.\u001b[39;49m\u001b[43mset_experiment\u001b[49m\u001b[43m(\u001b[49m\u001b[38;5;124;43m\"\u001b[39;49m\u001b[38;5;124;43mInitial testing\u001b[39;49m\u001b[38;5;124;43m\"\u001b[39;49m\u001b[43m)\u001b[49m\n\u001b[0;32m      3\u001b[0m mlflow\u001b[38;5;241m.\u001b[39mset_tracking_uri(\u001b[38;5;124m\"\u001b[39m\u001b[38;5;124mhttp://localhost:5000/\u001b[39m\u001b[38;5;124m\"\u001b[39m)\n\u001b[0;32m      5\u001b[0m \u001b[38;5;28;01mwith\u001b[39;00m mlflow\u001b[38;5;241m.\u001b[39mstart_run() \u001b[38;5;28;01mas\u001b[39;00m run:\n",
      "File \u001b[1;32mf:\\Formation\\Transfer learning\\Transfer-Learning\\.venv\\lib\\site-packages\\mlflow\\tracking\\fluent.py:182\u001b[0m, in \u001b[0;36mset_experiment\u001b[1;34m(experiment_name, experiment_id)\u001b[0m\n\u001b[0;32m    176\u001b[0m             \u001b[38;5;28;01mraise\u001b[39;00m MlflowException(\n\u001b[0;32m    177\u001b[0m                 message\u001b[38;5;241m=\u001b[39m\u001b[38;5;124mf\u001b[39m\u001b[38;5;124m\"\u001b[39m\u001b[38;5;124mExperiment with ID \u001b[39m\u001b[38;5;124m'\u001b[39m\u001b[38;5;132;01m{\u001b[39;00mexperiment_id\u001b[38;5;132;01m}\u001b[39;00m\u001b[38;5;124m'\u001b[39m\u001b[38;5;124m does not exist.\u001b[39m\u001b[38;5;124m\"\u001b[39m,\n\u001b[0;32m    178\u001b[0m                 error_code\u001b[38;5;241m=\u001b[39mRESOURCE_DOES_NOT_EXIST,\n\u001b[0;32m    179\u001b[0m             )\n\u001b[0;32m    181\u001b[0m     \u001b[38;5;28;01mif\u001b[39;00m experiment\u001b[38;5;241m.\u001b[39mlifecycle_stage \u001b[38;5;241m!=\u001b[39m LifecycleStage\u001b[38;5;241m.\u001b[39mACTIVE:\n\u001b[1;32m--> 182\u001b[0m         \u001b[38;5;28;01mraise\u001b[39;00m MlflowException(\n\u001b[0;32m    183\u001b[0m             message\u001b[38;5;241m=\u001b[39m(\n\u001b[0;32m    184\u001b[0m                 \u001b[38;5;124mf\u001b[39m\u001b[38;5;124m\"\u001b[39m\u001b[38;5;124mCannot set a deleted experiment \u001b[39m\u001b[38;5;132;01m{\u001b[39;00mexperiment\u001b[38;5;241m.\u001b[39mname\u001b[38;5;132;01m!r}\u001b[39;00m\u001b[38;5;124m as the active\u001b[39m\u001b[38;5;124m\"\u001b[39m\n\u001b[0;32m    185\u001b[0m                 \u001b[38;5;124m\"\u001b[39m\u001b[38;5;124m experiment. \u001b[39m\u001b[38;5;124m\"\u001b[39m\n\u001b[0;32m    186\u001b[0m                 \u001b[38;5;124m\"\u001b[39m\u001b[38;5;124mYou can restore the experiment, or permanently delete the \u001b[39m\u001b[38;5;124m\"\u001b[39m\n\u001b[0;32m    187\u001b[0m                 \u001b[38;5;124m\"\u001b[39m\u001b[38;5;124mexperiment to create a new one.\u001b[39m\u001b[38;5;124m\"\u001b[39m\n\u001b[0;32m    188\u001b[0m             ),\n\u001b[0;32m    189\u001b[0m             error_code\u001b[38;5;241m=\u001b[39mINVALID_PARAMETER_VALUE,\n\u001b[0;32m    190\u001b[0m         )\n\u001b[0;32m    192\u001b[0m \u001b[38;5;28;01mglobal\u001b[39;00m _active_experiment_id\n\u001b[0;32m    193\u001b[0m _active_experiment_id \u001b[38;5;241m=\u001b[39m experiment\u001b[38;5;241m.\u001b[39mexperiment_id\n",
      "\u001b[1;31mMlflowException\u001b[0m: Cannot set a deleted experiment 'Initial testing' as the active experiment. You can restore the experiment, or permanently delete the experiment to create a new one."
     ]
    }
   ],
   "source": [
    "# Log into MLFlow\n",
    "mlflow.set_experiment(\"Initial testing\")\n",
    "mlflow.set_tracking_uri(\"http://localhost:5000/\")\n",
    "\n",
    "with mlflow.start_run() as run:\n",
    "    run_id = run.info.run_id\n",
    "\n",
    "    mlflow.log_params(params)\n",
    "    mlflow.log_metrics(\n",
    "        results\n",
    "    )\n",
    "    mlflow.tensorflow.log_model(\n",
    "            model=model,\n",
    "            artifact_path=model_name,\n",
    "            input_example=X_test[:5],\n",
    "            signature = infer_signature(X_test, model.predict(X_test))\n",
    "        )\n",
    "    model_uri = f\"runs:/{run_id}/{model_name}\"\n",
    "    mlflow.register_model(model_uri=model_uri, name=model_name)"
   ]
  },
  {
   "cell_type": "code",
   "execution_count": null,
   "id": "dfa22032",
   "metadata": {},
   "outputs": [],
   "source": [
    "# Load a model\n",
    "model_name = input(\"Enter model name\")\n",
    "model_version = int(input(\"Enter model version\"))\n",
    "alias = \"challenger\"\n",
    "\n",
    "model_uri = f\"models:/{model_name}/{model_version}\"\n",
    "\n",
    "loaded_model = mlflow.tensorflow.load_model(model_uri)\n",
    "\n",
    "y_pred = loaded_model.predict(X_val)\n",
    "show_predictions(X_val, y_pred, y_true=y_val, class_names=[\"normal\", \"malade\"], n_images=10)"
   ]
  }
 ],
 "metadata": {
  "kernelspec": {
   "display_name": ".venv",
   "language": "python",
   "name": "python3"
  },
  "language_info": {
   "codemirror_mode": {
    "name": "ipython",
    "version": 3
   },
   "file_extension": ".py",
   "mimetype": "text/x-python",
   "name": "python",
   "nbconvert_exporter": "python",
   "pygments_lexer": "ipython3",
   "version": "3.10.0rc2"
  }
 },
 "nbformat": 4,
 "nbformat_minor": 5
}
