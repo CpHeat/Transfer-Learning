{
 "cells": [
  {
   "cell_type": "code",
   "execution_count": 1,
   "id": "3d2845fd",
   "metadata": {},
   "outputs": [
    {
     "data": {
      "text/plain": [
       "True"
      ]
     },
     "execution_count": 1,
     "metadata": {},
     "output_type": "execute_result"
    }
   ],
   "source": [
    "import os\n",
    "import shutil\n",
    "\n",
    "import pandas as pd\n",
    "import kagglehub\n",
    "import matplotlib.pyplot as plt\n",
    "import seaborn as sns\n",
    "import tensorflow as tf\n",
    "from tensorflow.keras.utils import to_categorical\n",
    "import mlflow\n",
    "from mlflow.models.signature import infer_signature\n",
    "from mlflow.data.pandas_dataset import PandasDataset\n",
    "import numpy as np\n",
    "from sklearn.utils.class_weight import compute_class_weight\n",
    "from sklearn.metrics import confusion_matrix, ConfusionMatrixDisplay\n",
    "from dotenv import load_dotenv\n",
    "from tensorflow.keras.preprocessing.image import ImageDataGenerator\n",
    "import torchxrayvision as xrv\n",
    "import torchvision.transforms as transforms\n",
    "import numpy as np\n",
    "import torch\n",
    "\n",
    "from functions.image.img_analysis import get_images_info\n",
    "from functions.image.img_treatment import prepare_data\n",
    "from functions.visualizations.img_show import show_images\n",
    "from functions.visualizations.show_predictions import show_predictions\n",
    "from functions.data import get_train_test\n",
    "import functions.models as custom_models\n",
    "from functions.mlflow import get_run_name\n",
    "from settings import params, model_name, folders, added_layers, experiment_name\n",
    "\n",
    "\n",
    "# Sets the number of threads\n",
    "tf.config.threading.set_inter_op_parallelism_threads(2)\n",
    "tf.config.threading.set_intra_op_parallelism_threads(12)\n",
    "os.environ[\"TF_ENABLE_ONEDNN_OPTS\"] = \"0\"\n",
    "\n",
    "\n",
    "# Loads the MLFlow credentials\n",
    "load_dotenv()"
   ]
  },
  {
   "cell_type": "code",
   "execution_count": null,
   "id": "76687529",
   "metadata": {},
   "outputs": [],
   "source": [
    "# Download latest version of dataset and store it locally\n",
    "path = kagglehub.dataset_download(\"paultimothymooney/chest-xray-pneumonia\")\n",
    "\n",
    "target_dir = \"data\"\n",
    "os.makedirs(target_dir, exist_ok=True)\n",
    "shutil.move(path, target_dir)\n",
    "removable_folder_paths = (\"data/chest_xray/\", \"data/2/chest_xray/chest_xray\", \"data/2/chest_xray/__MACOSX\")\n",
    "for folder_path in removable_folder_paths:\n",
    "    if os.path.exists(folder_path) and os.path.isdir(folder_path):\n",
    "        shutil.rmtree(folder_path)"
   ]
  },
  {
   "cell_type": "code",
   "execution_count": null,
   "id": "5af60a25",
   "metadata": {},
   "outputs": [],
   "source": [
    "# Analyser les images\n",
    "df_train_images = get_images_info(folders[\"train\"][\"input\"])\n",
    "df_train_valid = df_train_images[df_train_images[\"error\"] == False]\n",
    "\n",
    "# Identifier les images extrêmes\n",
    "extremes = pd.concat([\n",
    "    df_train_valid.loc[df_train_valid[\"width\"].idxmax()],\n",
    "    df_train_valid.loc[df_train_valid[\"width\"].idxmin()],\n",
    "    df_train_valid.loc[df_train_valid[\"height\"].idxmax()],\n",
    "    df_train_valid.loc[df_train_valid[\"height\"].idxmin()],\n",
    "    df_train_valid.loc[df_train_valid[\"aspect_ratio\"].idxmax()],\n",
    "    df_train_valid.loc[df_train_valid[\"aspect_ratio\"].idxmin()],\n",
    "], axis=1).T.drop_duplicates()\n",
    "\n",
    "# Aperçu\n",
    "print(df_train_images.head())\n",
    "# Statistiques\n",
    "print(df_train_images.describe())\n",
    "# Affichage en tableau\n",
    "print(\"\\nImages aux valeurs extrêmes :\")\n",
    "print(extremes.sort_values(by=[\"width\", \"height\"], ascending=[False, False]))\n",
    "\n",
    "# Effectif de chaque catégorie d'entrainement: le dataset est déséquilibré\n",
    "split_path = \"data/2/chest_xray/train\"\n",
    "for category in [\"NORMAL\", \"PNEUMONIA\"]:\n",
    "    category_path = split_path + '/' + category\n",
    "    count = len([\n",
    "            f for f in os.listdir(category_path)\n",
    "        ])\n",
    "    print(f\"{category}: {count} images\")\n",
    "\n",
    "# Affichage des images extrêmes\n",
    "show_images(extremes.reset_index(drop=True), folder_path=folders[\"train\"][\"input\"])"
   ]
  },
  {
   "cell_type": "code",
   "execution_count": null,
   "id": "b1cc4e75",
   "metadata": {},
   "outputs": [],
   "source": [
    "# Transformation des images\n",
    "for folder in folders:\n",
    "    prepare_data(folders[folder][\"input\"], folders[folder][\"output\"])"
   ]
  },
  {
   "cell_type": "code",
   "execution_count": 2,
   "id": "1ddae61e",
   "metadata": {},
   "outputs": [],
   "source": [
    "# Préparation des données de travail\n",
    "X_train, y_train = get_train_test(folders[\"train\"][\"output\"])\n",
    "X_test, y_test = get_train_test(folders[\"test\"][\"output\"])\n",
    "X_val, y_val = get_train_test(folders[\"val\"][\"output\"])\n",
    "\n",
    "# Rééquilibrage du dataset\n",
    "class_weight_dict = {0: 1.0, 1: 1.0}\n",
    "if params[\"equilibrate\"]:\n",
    "    class_weights = compute_class_weight(\n",
    "        class_weight='balanced',\n",
    "        classes=np.unique(y_train),\n",
    "        y=y_train\n",
    "    )\n",
    "    class_weight_dict = dict(enumerate(class_weights))"
   ]
  },
  {
   "cell_type": "code",
   "execution_count": null,
   "id": "f92415fd",
   "metadata": {},
   "outputs": [],
   "source": [
    "# Echantillonnage pour vérification\n",
    "# Sélectionner les indices des labels\n",
    "indices_label_0 = [i for i, y in enumerate(y_train) if y == 0][:5]\n",
    "indices_label_1 = [i for i, y in enumerate(y_train) if y == 1][:5]\n",
    "\n",
    "# Fusionner les indices sélectionnés\n",
    "selected_indices = indices_label_0 + indices_label_1\n",
    "\n",
    "# Affichage\n",
    "plt.figure(figsize=(15, 3))\n",
    "for idx, i in enumerate(selected_indices):\n",
    "    plt.subplot(1, 10, idx + 1)\n",
    "    plt.imshow(X_train[i], cmap=\"gray\")\n",
    "    plt.title(f\"Label: {y_train[i]}\", fontsize=8)\n",
    "    plt.axis(\"off\")\n",
    "\n",
    "plt.tight_layout()\n",
    "plt.show()"
   ]
  },
  {
   "cell_type": "code",
   "execution_count": 3,
   "id": "5580bd35",
   "metadata": {},
   "outputs": [
    {
     "name": "stdout",
     "output_type": "stream",
     "text": [
      "(5216, 2)\n"
     ]
    }
   ],
   "source": [
    "# Preprocessing\n",
    "X_train = X_train.astype(\"float32\")\n",
    "X_test = X_test.astype(\"float32\")\n",
    "\n",
    "# Normalisation : on divise les valeurs de pixels par 255 pour les ramener entre 0 et 1\n",
    "X_train /= 255.0\n",
    "X_test /= 255.0\n",
    "\n",
    "#Transform y_train, y_test to the shape expected by the model\n",
    "y_train = to_categorical(y_train, num_classes=2)\n",
    "y_test = to_categorical(y_test, num_classes=2)\n",
    "y_val = to_categorical(y_val, num_classes=2)\n",
    "\n",
    "if params[\"data_augmentation\"]:\n",
    "    datagen = ImageDataGenerator(\n",
    "        rotation_range=10,\n",
    "        horizontal_flip=True,\n",
    "        zoom_range=0.1,\n",
    "        width_shift_range=0.1,\n",
    "        height_shift_range=0.1,\n",
    "    )\n",
    "\n",
    "    datagen.fit(X_train)\n",
    "    \n",
    "print(y_train.shape)\n",
    "# On n'aplatit pas maintenant car les convolution ont besoin de matrices"
   ]
  },
  {
   "cell_type": "code",
   "execution_count": 4,
   "id": "5128f4c6",
   "metadata": {},
   "outputs": [
    {
     "data": {
      "text/html": [
       "<pre style=\"white-space:pre;overflow-x:auto;line-height:normal;font-family:Menlo,'DejaVu Sans Mono',consolas,'Courier New',monospace\"><span style=\"font-weight: bold\">Model: \"sequential\"</span>\n",
       "</pre>\n"
      ],
      "text/plain": [
       "\u001b[1mModel: \"sequential\"\u001b[0m\n"
      ]
     },
     "metadata": {},
     "output_type": "display_data"
    },
    {
     "data": {
      "text/html": [
       "<pre style=\"white-space:pre;overflow-x:auto;line-height:normal;font-family:Menlo,'DejaVu Sans Mono',consolas,'Courier New',monospace\">┏━━━━━━━━━━━━━━━━━━━━━━━━━━━━━━━━━┳━━━━━━━━━━━━━━━━━━━━━━━━┳━━━━━━━━━━━━━━━┓\n",
       "┃<span style=\"font-weight: bold\"> Layer (type)                    </span>┃<span style=\"font-weight: bold\"> Output Shape           </span>┃<span style=\"font-weight: bold\">       Param # </span>┃\n",
       "┡━━━━━━━━━━━━━━━━━━━━━━━━━━━━━━━━━╇━━━━━━━━━━━━━━━━━━━━━━━━╇━━━━━━━━━━━━━━━┩\n",
       "│ resnet50v2 (<span style=\"color: #0087ff; text-decoration-color: #0087ff\">Functional</span>)         │ (<span style=\"color: #00d7ff; text-decoration-color: #00d7ff\">None</span>, <span style=\"color: #00af00; text-decoration-color: #00af00\">2048</span>)           │    <span style=\"color: #00af00; text-decoration-color: #00af00\">23,564,800</span> │\n",
       "├─────────────────────────────────┼────────────────────────┼───────────────┤\n",
       "│ flatten (<span style=\"color: #0087ff; text-decoration-color: #0087ff\">Flatten</span>)               │ (<span style=\"color: #00d7ff; text-decoration-color: #00d7ff\">None</span>, <span style=\"color: #00af00; text-decoration-color: #00af00\">2048</span>)           │             <span style=\"color: #00af00; text-decoration-color: #00af00\">0</span> │\n",
       "├─────────────────────────────────┼────────────────────────┼───────────────┤\n",
       "│ dense (<span style=\"color: #0087ff; text-decoration-color: #0087ff\">Dense</span>)                   │ (<span style=\"color: #00d7ff; text-decoration-color: #00d7ff\">None</span>, <span style=\"color: #00af00; text-decoration-color: #00af00\">64</span>)             │       <span style=\"color: #00af00; text-decoration-color: #00af00\">131,136</span> │\n",
       "├─────────────────────────────────┼────────────────────────┼───────────────┤\n",
       "│ dropout (<span style=\"color: #0087ff; text-decoration-color: #0087ff\">Dropout</span>)               │ (<span style=\"color: #00d7ff; text-decoration-color: #00d7ff\">None</span>, <span style=\"color: #00af00; text-decoration-color: #00af00\">64</span>)             │             <span style=\"color: #00af00; text-decoration-color: #00af00\">0</span> │\n",
       "├─────────────────────────────────┼────────────────────────┼───────────────┤\n",
       "│ dense_1 (<span style=\"color: #0087ff; text-decoration-color: #0087ff\">Dense</span>)                 │ (<span style=\"color: #00d7ff; text-decoration-color: #00d7ff\">None</span>, <span style=\"color: #00af00; text-decoration-color: #00af00\">2</span>)              │           <span style=\"color: #00af00; text-decoration-color: #00af00\">130</span> │\n",
       "└─────────────────────────────────┴────────────────────────┴───────────────┘\n",
       "</pre>\n"
      ],
      "text/plain": [
       "┏━━━━━━━━━━━━━━━━━━━━━━━━━━━━━━━━━┳━━━━━━━━━━━━━━━━━━━━━━━━┳━━━━━━━━━━━━━━━┓\n",
       "┃\u001b[1m \u001b[0m\u001b[1mLayer (type)                   \u001b[0m\u001b[1m \u001b[0m┃\u001b[1m \u001b[0m\u001b[1mOutput Shape          \u001b[0m\u001b[1m \u001b[0m┃\u001b[1m \u001b[0m\u001b[1m      Param #\u001b[0m\u001b[1m \u001b[0m┃\n",
       "┡━━━━━━━━━━━━━━━━━━━━━━━━━━━━━━━━━╇━━━━━━━━━━━━━━━━━━━━━━━━╇━━━━━━━━━━━━━━━┩\n",
       "│ resnet50v2 (\u001b[38;5;33mFunctional\u001b[0m)         │ (\u001b[38;5;45mNone\u001b[0m, \u001b[38;5;34m2048\u001b[0m)           │    \u001b[38;5;34m23,564,800\u001b[0m │\n",
       "├─────────────────────────────────┼────────────────────────┼───────────────┤\n",
       "│ flatten (\u001b[38;5;33mFlatten\u001b[0m)               │ (\u001b[38;5;45mNone\u001b[0m, \u001b[38;5;34m2048\u001b[0m)           │             \u001b[38;5;34m0\u001b[0m │\n",
       "├─────────────────────────────────┼────────────────────────┼───────────────┤\n",
       "│ dense (\u001b[38;5;33mDense\u001b[0m)                   │ (\u001b[38;5;45mNone\u001b[0m, \u001b[38;5;34m64\u001b[0m)             │       \u001b[38;5;34m131,136\u001b[0m │\n",
       "├─────────────────────────────────┼────────────────────────┼───────────────┤\n",
       "│ dropout (\u001b[38;5;33mDropout\u001b[0m)               │ (\u001b[38;5;45mNone\u001b[0m, \u001b[38;5;34m64\u001b[0m)             │             \u001b[38;5;34m0\u001b[0m │\n",
       "├─────────────────────────────────┼────────────────────────┼───────────────┤\n",
       "│ dense_1 (\u001b[38;5;33mDense\u001b[0m)                 │ (\u001b[38;5;45mNone\u001b[0m, \u001b[38;5;34m2\u001b[0m)              │           \u001b[38;5;34m130\u001b[0m │\n",
       "└─────────────────────────────────┴────────────────────────┴───────────────┘\n"
      ]
     },
     "metadata": {},
     "output_type": "display_data"
    },
    {
     "data": {
      "text/html": [
       "<pre style=\"white-space:pre;overflow-x:auto;line-height:normal;font-family:Menlo,'DejaVu Sans Mono',consolas,'Courier New',monospace\"><span style=\"font-weight: bold\"> Total params: </span><span style=\"color: #00af00; text-decoration-color: #00af00\">23,696,066</span> (90.39 MB)\n",
       "</pre>\n"
      ],
      "text/plain": [
       "\u001b[1m Total params: \u001b[0m\u001b[38;5;34m23,696,066\u001b[0m (90.39 MB)\n"
      ]
     },
     "metadata": {},
     "output_type": "display_data"
    },
    {
     "data": {
      "text/html": [
       "<pre style=\"white-space:pre;overflow-x:auto;line-height:normal;font-family:Menlo,'DejaVu Sans Mono',consolas,'Courier New',monospace\"><span style=\"font-weight: bold\"> Trainable params: </span><span style=\"color: #00af00; text-decoration-color: #00af00\">131,266</span> (512.76 KB)\n",
       "</pre>\n"
      ],
      "text/plain": [
       "\u001b[1m Trainable params: \u001b[0m\u001b[38;5;34m131,266\u001b[0m (512.76 KB)\n"
      ]
     },
     "metadata": {},
     "output_type": "display_data"
    },
    {
     "data": {
      "text/html": [
       "<pre style=\"white-space:pre;overflow-x:auto;line-height:normal;font-family:Menlo,'DejaVu Sans Mono',consolas,'Courier New',monospace\"><span style=\"font-weight: bold\"> Non-trainable params: </span><span style=\"color: #00af00; text-decoration-color: #00af00\">23,564,800</span> (89.89 MB)\n",
       "</pre>\n"
      ],
      "text/plain": [
       "\u001b[1m Non-trainable params: \u001b[0m\u001b[38;5;34m23,564,800\u001b[0m (89.89 MB)\n"
      ]
     },
     "metadata": {},
     "output_type": "display_data"
    }
   ],
   "source": [
    "# Création du modèle\n",
    "model = custom_models.initialize_model()\n",
    "model.summary()"
   ]
  },
  {
   "cell_type": "code",
   "execution_count": 5,
   "id": "cf093e1c",
   "metadata": {},
   "outputs": [
    {
     "name": "stdout",
     "output_type": "stream",
     "text": [
      "\u001b[1m53/53\u001b[0m \u001b[32m━━━━━━━━━━━━━━━━━━━━\u001b[0m\u001b[37m\u001b[0m \u001b[1m99s\u001b[0m 2s/step - accuracy: 0.8001 - auc: 0.8720 - loss: 0.4688 - mean_squared_error: 0.1458 - precision: 0.8001 - recall: 0.8001 - val_accuracy: 0.8349 - val_auc: 0.9247 - val_loss: 0.3936 - val_mean_squared_error: 0.1167 - val_precision: 0.8349 - val_recall: 0.8349\n"
     ]
    }
   ],
   "source": [
    "# Entrainement du modèle\n",
    "if params[\"data_augmentation\"]:\n",
    "    model_info = model.fit(\n",
    "        datagen.flow(X_train, y_train, batch_size=params[\"batch_size\"]),\n",
    "        epochs=params[\"epochs\"],\n",
    "        validation_data=(X_test, y_test),\n",
    "        class_weight=class_weight_dict\n",
    "    )\n",
    "else:\n",
    "    model_info = model.fit(\n",
    "        X_train, y_train,\n",
    "        epochs=params[\"epochs\"],\n",
    "        batch_size=params[\"batch_size\"],\n",
    "        validation_data=(X_test, y_test),\n",
    "        class_weight=class_weight_dict\n",
    "    )"
   ]
  },
  {
   "cell_type": "code",
   "execution_count": 6,
   "id": "4be8a567",
   "metadata": {},
   "outputs": [
    {
     "name": "stdout",
     "output_type": "stream",
     "text": [
      "\u001b[1m20/20\u001b[0m \u001b[32m━━━━━━━━━━━━━━━━━━━━\u001b[0m\u001b[37m\u001b[0m \u001b[1m12s\u001b[0m 559ms/step\n"
     ]
    },
    {
     "data": {
      "image/png": "[encoded data removed]",
      "text/plain": [
       "<Figure size 600x400 with 2 Axes>"
      ]
     },
     "metadata": {},
     "output_type": "display_data"
    }
   ],
   "source": [
    "# Matrice de confusion\n",
    "y_test_classes = np.argmax(y_test, axis=1)\n",
    "y_pred = model.predict(X_test)\n",
    "y_pred_classes = np.argmax(y_pred, axis=1)\n",
    "\n",
    "conf_matrix = confusion_matrix(y_test_classes, y_pred_classes)\n",
    "\n",
    "disp = ConfusionMatrixDisplay(confusion_matrix=conf_matrix)\n",
    "fig, ax = plt.subplots(figsize=(6,4))\n",
    "disp.plot(cmap='GnBu', ax=ax) \n",
    "plt.title(\"Confusion matrix\")\n",
    "img_path = \"confusion_matrix.png\"\n",
    "plt.savefig(img_path)\n",
    "plt.show()\n",
    "plt.close()"
   ]
  },
  {
   "cell_type": "code",
   "execution_count": null,
   "id": "6ca7d10a",
   "metadata": {},
   "outputs": [],
   "source": [
    "y_pred = model.predict(X_test)\n",
    "\n",
    "y_test_labels = np.argmax(y_test, axis=1)\n",
    "y_pred_labels = np.argmax(y_pred, axis=1)\n",
    "\n",
    "conf_matrix = confusion_matrix(y_test_labels, y_pred_labels)\n",
    "\n",
    "sns.heatmap(conf_matrix, fmt='d', annot=True)\n",
    "plt.xlabel(\"Prédiction\")\n",
    "plt.ylabel(\"Réalité\")\n",
    "plt.title(\"Matrice de confusion\")\n",
    "plt.show()"
   ]
  },
  {
   "cell_type": "code",
   "execution_count": 7,
   "id": "fd0fb4cd",
   "metadata": {},
   "outputs": [
    {
     "name": "stdout",
     "output_type": "stream",
     "text": [
      "\u001b[1m20/20\u001b[0m \u001b[32m━━━━━━━━━━━━━━━━━━━━\u001b[0m\u001b[37m\u001b[0m \u001b[1m10s\u001b[0m 501ms/step - accuracy: 0.7270 - auc: 0.8174 - loss: 0.6275 - mean_squared_error: 0.1881 - precision: 0.7270 - recall: 0.7270\n",
      "\u001b[1m20/20\u001b[0m \u001b[32m━━━━━━━━━━━━━━━━━━━━\u001b[0m\u001b[37m\u001b[0m \u001b[1m10s\u001b[0m 497ms/step\n"
     ]
    },
    {
     "data": {
      "application/vnd.jupyter.widget-view+json": {
       "model_id": "c411c263b1624389aafb6179d0398c15",
       "version_major": 2,
       "version_minor": 0
      },
      "text/plain": [
       "Downloading artifacts:   0%|          | 0/9 [00:00<?, ?it/s]"
      ]
     },
     "metadata": {},
     "output_type": "display_data"
    },
    {
     "name": "stdout",
     "output_type": "stream",
     "text": [
      "\u001b[1m1/1\u001b[0m \u001b[32m━━━━━━━━━━━━━━━━━━━━\u001b[0m\u001b[37m\u001b[0m \u001b[1m1s\u001b[0m 944ms/step\n"
     ]
    },
    {
     "name": "stderr",
     "output_type": "stream",
     "text": [
      "Successfully registered model 'Transfer Learning - ResNet50V2'.\n",
      "2025/05/26 15:44:56 INFO mlflow.store.model_registry.abstract_store: Waiting up to 300 seconds for model version to finish creation. Model name: Transfer Learning - ResNet50V2, version 1\n",
      "Created version '1' of model 'Transfer Learning - ResNet50V2'.\n"
     ]
    },
    {
     "name": "stdout",
     "output_type": "stream",
     "text": [
      "🏃 View run Transfer Learning - ResNet50V2 #1 at: http://mlflow.cpetit.fr/#/experiments/1/runs/42b9b1acf8204008896e95074cef0996\n",
      "🧪 View experiment at: http://mlflow.cpetit.fr/#/experiments/1\n"
     ]
    }
   ],
   "source": [
    "# Log results into MLFlow\n",
    "results = {}\n",
    "results[\"loss\"], results[\"recall\"], results[\"accuracy\"], results[\"precision\"], results[\"auc\"], results[\"mean_squared_error\"] = model.evaluate(X_test, y_test)\n",
    "\n",
    "mlflow.set_tracking_uri(\"http://mlflow.cpetit.fr/\")\n",
    "experiment = mlflow.set_experiment(experiment_name=experiment_name)\n",
    "run_name = get_run_name(experiment, params[\"model\"])\n",
    "\n",
    "with mlflow.start_run(run_name=run_name) as run:\n",
    "    run_id = run.info.run_id\n",
    "\n",
    "    # Log dataset\n",
    "    mlflow.log_param(\"dataset_url\", \"https://www.kaggle.com/datasets/paultimothymooney/chest-xray-pneumonia\")\n",
    "    mlflow.set_tag(\"dataset\", \"chest-xray-pneumonia\")\n",
    "\n",
    "    # Log parameters\n",
    "    mlflow.log_params(params)\n",
    "    for i, added_layer in enumerate(added_layers):\n",
    "         mlflow.log_params({\n",
    "            f\"added_layer_{i}\": added_layer\n",
    "        })\n",
    "    # Log training metrics\n",
    "    for epoch in range(len(model_info.history['loss'])):\n",
    "        for metric_name, values in model_info.history.items():\n",
    "            mlflow.log_metric(f\"training {metric_name}\", values[epoch], step=epoch)\n",
    "    # Log final metrics\n",
    "    mlflow.log_metrics(\n",
    "        results\n",
    "    )\n",
    "    # Log confusion matrix\n",
    "    mlflow.log_artifact(img_path, artifact_path=\"confusion_matrix\")\n",
    "    # Log model\n",
    "    mlflow.tensorflow.log_model(\n",
    "            model=model,\n",
    "            artifact_path=model_name,\n",
    "            input_example=X_test[:5],\n",
    "            signature = infer_signature(X_test, model.predict(X_test))\n",
    "        )\n",
    "\n",
    "    model_uri = f\"runs:/{run_id}/{model_name}\"\n",
    "    mlflow.register_model(model_uri=model_uri, name=model_name)"
   ]
  },
  {
   "cell_type": "code",
   "execution_count": null,
   "id": "dfa22032",
   "metadata": {},
   "outputs": [],
   "source": [
    "# Load a model\n",
    "model_name = input(\"Enter model name\")\n",
    "model_version = int(input(\"Enter model version\"))\n",
    "alias = \"challenger\"\n",
    "\n",
    "model_uri = f\"models:/{model_name}/{model_version}\"\n",
    "\n",
    "loaded_model = mlflow.tensorflow.load_model(model_uri)\n",
    "\n",
    "y_pred = loaded_model.predict(X_val)\n",
    "show_predictions(X_val, y_pred, y_true=y_val, class_names=[\"normal\", \"malade\"], n_images=10)"
   ]
  },
  {
   "cell_type": "code",
   "execution_count": null,
   "id": "b7714ef6",
   "metadata": {},
   "outputs": [],
   "source": [
    "# Modele plug and play\n",
    "model = xrv.models.DenseNet(weights=\"densenet121-res224-all\")\n",
    "model.eval()  # mode évaluation (pas d'entraînement)\n",
    "\n",
    "transform = transforms.Compose([\n",
    "    transforms.Resize((224, 224)),\n",
    "    transforms.ToTensor(),\n",
    "    transforms.Normalize(mean=[0.481], std=[0.226])  # mean/std de torchxrayvision pour chest X-rays\n",
    "])\n",
    "\n",
    "def preprocess_batch(X_np):\n",
    "    # X_np : numpy array shape (N, 224, 224, 1), dtype uint8 ou float\n",
    "\n",
    "    # 1) Convertir en float32\n",
    "    X_np = X_np.astype('float32')\n",
    "\n",
    "    # 2) Normaliser : pixel/255 -> [0,1]\n",
    "    X_np /= 255.0\n",
    "\n",
    "    # 3) Normaliser avec mean/std\n",
    "    X_np = (X_np - mean) / std\n",
    "\n",
    "    # 4) Convertir en torch tensor et permuter les dimensions pour (N, C, H, W)\n",
    "    X_tensor = torch.from_numpy(X_np).permute(0, 3, 1, 2)  # (N,1,224,224)\n",
    "\n",
    "    return X_tensor\n",
    "\n",
    "X_test_tensor = preprocess_batch(X_test)\n",
    "\n",
    "model.eval()\n",
    "with torch.no_grad():\n",
    "    outputs = model(X_test_tensor)  # shape (N, 18)\n",
    "\n",
    "pneumonia_scores = outputs[:, 7].cpu().numpy()\n",
    "print(pneumonia_scores[:10])"
   ]
  }
 ],
 "metadata": {
  "kernelspec": {
   "display_name": ".venv",
   "language": "python",
   "name": "python3"
  },
  "language_info": {
   "codemirror_mode": {
    "name": "ipython",
    "version": 3
   },
   "file_extension": ".py",
   "mimetype": "text/x-python",
   "name": "python",
   "nbconvert_exporter": "python",
   "pygments_lexer": "ipython3",
   "version": "3.10.0rc2"
  }
 },
 "nbformat": 4,
 "nbformat_minor": 5
}
