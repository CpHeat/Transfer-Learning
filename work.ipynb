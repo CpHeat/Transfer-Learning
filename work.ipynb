{
 "cells": [
  {
   "cell_type": "code",
   "execution_count": 1,
   "id": "3d2845fd",
   "metadata": {},
   "outputs": [
    {
     "data": {
      "text/plain": [
       "True"
      ]
     },
     "execution_count": 1,
     "metadata": {},
     "output_type": "execute_result"
    }
   ],
   "source": [
    "import os\n",
    "import shutil\n",
    "\n",
    "import pandas as pd\n",
    "import kagglehub\n",
    "import matplotlib.pyplot as plt\n",
    "import seaborn as sns\n",
    "import tensorflow as tf\n",
    "from tensorflow.keras.utils import to_categorical\n",
    "import mlflow\n",
    "from mlflow.models.signature import infer_signature\n",
    "from mlflow.data.pandas_dataset import PandasDataset\n",
    "import numpy as np\n",
    "from sklearn.utils.class_weight import compute_class_weight\n",
    "from sklearn.metrics import confusion_matrix, ConfusionMatrixDisplay\n",
    "from dotenv import load_dotenv\n",
    "from tensorflow.keras.preprocessing.image import ImageDataGenerator\n",
    "import torchxrayvision as xrv\n",
    "import torchvision.transforms as transforms\n",
    "import numpy as np\n",
    "import torch\n",
    "\n",
    "from functions.image.img_analysis import get_images_info\n",
    "from functions.image.img_treatment import prepare_data\n",
    "from functions.visualizations.img_show import show_images\n",
    "from functions.visualizations.show_predictions import show_predictions\n",
    "from functions.data import get_train_test\n",
    "import functions.models as custom_models\n",
    "from functions.mlflow import get_run_name\n",
    "from settings import params, model_name, folders, added_layers, experiment_name\n",
    "\n",
    "\n",
    "# Sets the number of threads\n",
    "tf.config.threading.set_inter_op_parallelism_threads(2)\n",
    "tf.config.threading.set_intra_op_parallelism_threads(12)\n",
    "os.environ[\"TF_ENABLE_ONEDNN_OPTS\"] = \"0\"\n",
    "\n",
    "\n",
    "# Loads the MLFlow credentials\n",
    "load_dotenv()"
   ]
  },
  {
   "cell_type": "code",
   "execution_count": 2,
   "id": "76687529",
   "metadata": {},
   "outputs": [],
   "source": [
    "# Download latest version of dataset and store it locally\n",
    "if not os.path.exists(\"data\"):\n",
    "    path = kagglehub.dataset_download(\"paultimothymooney/chest-xray-pneumonia\")\n",
    "\n",
    "    target_dir = \"data\"\n",
    "    os.makedirs(target_dir, exist_ok=True)\n",
    "    shutil.move(path, target_dir)\n",
    "    removable_folder_paths = (\"data/chest_xray/\", \"data/2/chest_xray/chest_xray\", \"data/2/chest_xray/__MACOSX\")\n",
    "    for folder_path in removable_folder_paths:\n",
    "        if os.path.exists(folder_path) and os.path.isdir(folder_path):\n",
    "            shutil.rmtree(folder_path)"
   ]
  },
  {
   "cell_type": "code",
   "execution_count": null,
   "id": "5af60a25",
   "metadata": {},
   "outputs": [],
   "source": [
    "# Analyser les images\n",
    "df_train_images = get_images_info(folders[\"train\"][\"input\"])\n",
    "df_train_valid = df_train_images[df_train_images[\"error\"] == False]\n",
    "\n",
    "# Identifier les images extrêmes\n",
    "extremes = pd.concat([\n",
    "    df_train_valid.loc[df_train_valid[\"width\"].idxmax()],\n",
    "    df_train_valid.loc[df_train_valid[\"width\"].idxmin()],\n",
    "    df_train_valid.loc[df_train_valid[\"height\"].idxmax()],\n",
    "    df_train_valid.loc[df_train_valid[\"height\"].idxmin()],\n",
    "    df_train_valid.loc[df_train_valid[\"aspect_ratio\"].idxmax()],\n",
    "    df_train_valid.loc[df_train_valid[\"aspect_ratio\"].idxmin()],\n",
    "], axis=1).T.drop_duplicates()\n",
    "\n",
    "# Aperçu\n",
    "print(df_train_images.head())\n",
    "# Statistiques\n",
    "print(df_train_images.describe())\n",
    "# Affichage en tableau\n",
    "print(\"\\nImages aux valeurs extrêmes :\")\n",
    "print(extremes.sort_values(by=[\"width\", \"height\"], ascending=[False, False]))\n",
    "\n",
    "# Effectif de chaque catégorie d'entrainement: le dataset est déséquilibré\n",
    "split_path = \"data/2/chest_xray/train\"\n",
    "for category in [\"NORMAL\", \"PNEUMONIA\"]:\n",
    "    category_path = split_path + '/' + category\n",
    "    count = len([\n",
    "            f for f in os.listdir(category_path)\n",
    "        ])\n",
    "    print(f\"{category}: {count} images\")\n",
    "\n",
    "# Affichage des images extrêmes\n",
    "show_images(extremes.reset_index(drop=True), folder_path=folders[\"train\"][\"input\"])"
   ]
  },
  {
   "cell_type": "code",
   "execution_count": 3,
   "id": "b1cc4e75",
   "metadata": {},
   "outputs": [],
   "source": [
    "# Transformation des images\n",
    "import json\n",
    "\n",
    "config_path = os.path.join(\"data/processed\", \"data_config.json\")\n",
    "\n",
    "current_config = {\n",
    "    \"rgb\": params[\"rgb\"],\n",
    "    \"img_size\": params[\"img_size\"]\n",
    "}\n",
    "\n",
    "if os.path.exists(config_path):\n",
    "    with open(config_path, \"r\") as f:\n",
    "        previous_config = json.load(f)\n",
    "    if previous_config != current_config:\n",
    "        for folder in folders:\n",
    "            prepare_data(folders[folder][\"input\"], folders[folder][\"output\"])\n",
    "else:\n",
    "    for folder in folders:\n",
    "            prepare_data(folders[folder][\"input\"], folders[folder][\"output\"])\n",
    "\n",
    "with open(config_path, \"w\") as f:\n",
    "        json.dump(current_config, f)"
   ]
  },
  {
   "cell_type": "code",
   "execution_count": 4,
   "id": "1ddae61e",
   "metadata": {},
   "outputs": [],
   "source": [
    "# Préparation des données de travail\n",
    "X_train, y_train = get_train_test(folders[\"train\"][\"output\"])\n",
    "X_test, y_test = get_train_test(folders[\"test\"][\"output\"])\n",
    "X_val, y_val = get_train_test(folders[\"val\"][\"output\"])\n",
    "\n",
    "# Rééquilibrage du dataset\n",
    "class_weight_dict = {0: 1.0, 1: 1.0}\n",
    "if params[\"equilibrate\"]:\n",
    "    class_weights = compute_class_weight(\n",
    "        class_weight='balanced',\n",
    "        classes=np.unique(y_train),\n",
    "        y=y_train\n",
    "    )\n",
    "    class_weight_dict = dict(enumerate(class_weights))"
   ]
  },
  {
   "cell_type": "code",
   "execution_count": null,
   "id": "f92415fd",
   "metadata": {},
   "outputs": [],
   "source": [
    "# Echantillonnage pour vérification\n",
    "# Sélectionner les indices des labels\n",
    "indices_label_0 = [i for i, y in enumerate(y_train) if y == 0][:5]\n",
    "indices_label_1 = [i for i, y in enumerate(y_train) if y == 1][:5]\n",
    "\n",
    "# Fusionner les indices sélectionnés\n",
    "selected_indices = indices_label_0 + indices_label_1\n",
    "\n",
    "# Affichage\n",
    "plt.figure(figsize=(15, 3))\n",
    "for idx, i in enumerate(selected_indices):\n",
    "    plt.subplot(1, 10, idx + 1)\n",
    "    plt.imshow(X_train[i], cmap=\"gray\")\n",
    "    plt.title(f\"Label: {y_train[i]}\", fontsize=8)\n",
    "    plt.axis(\"off\")\n",
    "\n",
    "plt.tight_layout()\n",
    "plt.show()"
   ]
  },
  {
   "cell_type": "code",
   "execution_count": 5,
   "id": "5580bd35",
   "metadata": {},
   "outputs": [],
   "source": [
    "# Preprocessing\n",
    "X_train = X_train.astype(\"float32\")\n",
    "X_test = X_test.astype(\"float32\")\n",
    "\n",
    "# Normalisation : on divise les valeurs de pixels par 255 pour les ramener entre 0 et 1\n",
    "X_train /= 255.0\n",
    "X_test /= 255.0\n",
    "\n",
    "#Transform y_train, y_test to the shape expected by the model\n",
    "y_train = to_categorical(y_train, num_classes=2)\n",
    "y_test = to_categorical(y_test, num_classes=2)\n",
    "y_val = to_categorical(y_val, num_classes=2)\n",
    "\n",
    "if params[\"data_augmentation\"]:\n",
    "    datagen = ImageDataGenerator(\n",
    "        rotation_range=10,\n",
    "        horizontal_flip=True,\n",
    "        zoom_range=0.1,\n",
    "        width_shift_range=0.1,\n",
    "        height_shift_range=0.1,\n",
    "    )\n",
    "\n",
    "    datagen.fit(X_train)\n",
    "    \n",
    "# On n'aplatit pas maintenant car les convolution ont besoin de matrices"
   ]
  },
  {
   "cell_type": "code",
   "execution_count": 6,
   "id": "5128f4c6",
   "metadata": {},
   "outputs": [
    {
     "data": {
      "text/html": [
       "<pre style=\"white-space:pre;overflow-x:auto;line-height:normal;font-family:Menlo,'DejaVu Sans Mono',consolas,'Courier New',monospace\"><span style=\"font-weight: bold\">Model: \"sequential\"</span>\n",
       "</pre>\n"
      ],
      "text/plain": [
       "\u001b[1mModel: \"sequential\"\u001b[0m\n"
      ]
     },
     "metadata": {},
     "output_type": "display_data"
    },
    {
     "data": {
      "text/html": [
       "<pre style=\"white-space:pre;overflow-x:auto;line-height:normal;font-family:Menlo,'DejaVu Sans Mono',consolas,'Courier New',monospace\">┏━━━━━━━━━━━━━━━━━━━━━━━━━━━━━━━━━┳━━━━━━━━━━━━━━━━━━━━━━━━┳━━━━━━━━━━━━━━━┓\n",
       "┃<span style=\"font-weight: bold\"> Layer (type)                    </span>┃<span style=\"font-weight: bold\"> Output Shape           </span>┃<span style=\"font-weight: bold\">       Param # </span>┃\n",
       "┡━━━━━━━━━━━━━━━━━━━━━━━━━━━━━━━━━╇━━━━━━━━━━━━━━━━━━━━━━━━╇━━━━━━━━━━━━━━━┩\n",
       "│ mobilenetv2 (<span style=\"color: #0087ff; text-decoration-color: #0087ff\">Functional</span>)        │ (<span style=\"color: #00d7ff; text-decoration-color: #00d7ff\">None</span>, <span style=\"color: #00af00; text-decoration-color: #00af00\">1280</span>)           │       <span style=\"color: #00af00; text-decoration-color: #00af00\">410,208</span> │\n",
       "├─────────────────────────────────┼────────────────────────┼───────────────┤\n",
       "│ flatten (<span style=\"color: #0087ff; text-decoration-color: #0087ff\">Flatten</span>)               │ (<span style=\"color: #00d7ff; text-decoration-color: #00d7ff\">None</span>, <span style=\"color: #00af00; text-decoration-color: #00af00\">1280</span>)           │             <span style=\"color: #00af00; text-decoration-color: #00af00\">0</span> │\n",
       "├─────────────────────────────────┼────────────────────────┼───────────────┤\n",
       "│ dense (<span style=\"color: #0087ff; text-decoration-color: #0087ff\">Dense</span>)                   │ (<span style=\"color: #00d7ff; text-decoration-color: #00d7ff\">None</span>, <span style=\"color: #00af00; text-decoration-color: #00af00\">64</span>)             │        <span style=\"color: #00af00; text-decoration-color: #00af00\">81,984</span> │\n",
       "├─────────────────────────────────┼────────────────────────┼───────────────┤\n",
       "│ dropout (<span style=\"color: #0087ff; text-decoration-color: #0087ff\">Dropout</span>)               │ (<span style=\"color: #00d7ff; text-decoration-color: #00d7ff\">None</span>, <span style=\"color: #00af00; text-decoration-color: #00af00\">64</span>)             │             <span style=\"color: #00af00; text-decoration-color: #00af00\">0</span> │\n",
       "├─────────────────────────────────┼────────────────────────┼───────────────┤\n",
       "│ dense_1 (<span style=\"color: #0087ff; text-decoration-color: #0087ff\">Dense</span>)                 │ (<span style=\"color: #00d7ff; text-decoration-color: #00d7ff\">None</span>, <span style=\"color: #00af00; text-decoration-color: #00af00\">2</span>)              │           <span style=\"color: #00af00; text-decoration-color: #00af00\">130</span> │\n",
       "└─────────────────────────────────┴────────────────────────┴───────────────┘\n",
       "</pre>\n"
      ],
      "text/plain": [
       "┏━━━━━━━━━━━━━━━━━━━━━━━━━━━━━━━━━┳━━━━━━━━━━━━━━━━━━━━━━━━┳━━━━━━━━━━━━━━━┓\n",
       "┃\u001b[1m \u001b[0m\u001b[1mLayer (type)                   \u001b[0m\u001b[1m \u001b[0m┃\u001b[1m \u001b[0m\u001b[1mOutput Shape          \u001b[0m\u001b[1m \u001b[0m┃\u001b[1m \u001b[0m\u001b[1m      Param #\u001b[0m\u001b[1m \u001b[0m┃\n",
       "┡━━━━━━━━━━━━━━━━━━━━━━━━━━━━━━━━━╇━━━━━━━━━━━━━━━━━━━━━━━━╇━━━━━━━━━━━━━━━┩\n",
       "│ mobilenetv2 (\u001b[38;5;33mFunctional\u001b[0m)        │ (\u001b[38;5;45mNone\u001b[0m, \u001b[38;5;34m1280\u001b[0m)           │       \u001b[38;5;34m410,208\u001b[0m │\n",
       "├─────────────────────────────────┼────────────────────────┼───────────────┤\n",
       "│ flatten (\u001b[38;5;33mFlatten\u001b[0m)               │ (\u001b[38;5;45mNone\u001b[0m, \u001b[38;5;34m1280\u001b[0m)           │             \u001b[38;5;34m0\u001b[0m │\n",
       "├─────────────────────────────────┼────────────────────────┼───────────────┤\n",
       "│ dense (\u001b[38;5;33mDense\u001b[0m)                   │ (\u001b[38;5;45mNone\u001b[0m, \u001b[38;5;34m64\u001b[0m)             │        \u001b[38;5;34m81,984\u001b[0m │\n",
       "├─────────────────────────────────┼────────────────────────┼───────────────┤\n",
       "│ dropout (\u001b[38;5;33mDropout\u001b[0m)               │ (\u001b[38;5;45mNone\u001b[0m, \u001b[38;5;34m64\u001b[0m)             │             \u001b[38;5;34m0\u001b[0m │\n",
       "├─────────────────────────────────┼────────────────────────┼───────────────┤\n",
       "│ dense_1 (\u001b[38;5;33mDense\u001b[0m)                 │ (\u001b[38;5;45mNone\u001b[0m, \u001b[38;5;34m2\u001b[0m)              │           \u001b[38;5;34m130\u001b[0m │\n",
       "└─────────────────────────────────┴────────────────────────┴───────────────┘\n"
      ]
     },
     "metadata": {},
     "output_type": "display_data"
    },
    {
     "data": {
      "text/html": [
       "<pre style=\"white-space:pre;overflow-x:auto;line-height:normal;font-family:Menlo,'DejaVu Sans Mono',consolas,'Courier New',monospace\"><span style=\"font-weight: bold\"> Total params: </span><span style=\"color: #00af00; text-decoration-color: #00af00\">492,322</span> (1.88 MB)\n",
       "</pre>\n"
      ],
      "text/plain": [
       "\u001b[1m Total params: \u001b[0m\u001b[38;5;34m492,322\u001b[0m (1.88 MB)\n"
      ]
     },
     "metadata": {},
     "output_type": "display_data"
    },
    {
     "data": {
      "text/html": [
       "<pre style=\"white-space:pre;overflow-x:auto;line-height:normal;font-family:Menlo,'DejaVu Sans Mono',consolas,'Courier New',monospace\"><span style=\"font-weight: bold\"> Trainable params: </span><span style=\"color: #00af00; text-decoration-color: #00af00\">82,114</span> (320.76 KB)\n",
       "</pre>\n"
      ],
      "text/plain": [
       "\u001b[1m Trainable params: \u001b[0m\u001b[38;5;34m82,114\u001b[0m (320.76 KB)\n"
      ]
     },
     "metadata": {},
     "output_type": "display_data"
    },
    {
     "data": {
      "text/html": [
       "<pre style=\"white-space:pre;overflow-x:auto;line-height:normal;font-family:Menlo,'DejaVu Sans Mono',consolas,'Courier New',monospace\"><span style=\"font-weight: bold\"> Non-trainable params: </span><span style=\"color: #00af00; text-decoration-color: #00af00\">410,208</span> (1.56 MB)\n",
       "</pre>\n"
      ],
      "text/plain": [
       "\u001b[1m Non-trainable params: \u001b[0m\u001b[38;5;34m410,208\u001b[0m (1.56 MB)\n"
      ]
     },
     "metadata": {},
     "output_type": "display_data"
    }
   ],
   "source": [
    "# Création du modèle\n",
    "model = custom_models.initialize_model()\n",
    "model.summary()"
   ]
  },
  {
   "cell_type": "code",
   "execution_count": 7,
   "id": "cf093e1c",
   "metadata": {},
   "outputs": [
    {
     "name": "stdout",
     "output_type": "stream",
     "text": [
      "Epoch 1/10\n",
      "\u001b[1m53/53\u001b[0m \u001b[32m━━━━━━━━━━━━━━━━━━━━\u001b[0m\u001b[37m\u001b[0m \u001b[1m33s\u001b[0m 568ms/step - accuracy: 0.7862 - auc: 0.8503 - loss: 0.4936 - mean_squared_error: 0.1571 - precision_normal: 0.5657 - precision_pneumonia: 0.9155 - recall_normal: 0.7880 - recall_pneumonia: 0.7860 - val_accuracy: 0.8397 - val_auc: 0.9255 - val_loss: 0.3538 - val_mean_squared_error: 0.1088 - val_precision_normal: 0.7577 - val_precision_pneumonia: 0.8984 - val_recall_normal: 0.8419 - val_recall_pneumonia: 0.8385\n",
      "Epoch 2/10\n",
      "\u001b[1m53/53\u001b[0m \u001b[32m━━━━━━━━━━━━━━━━━━━━\u001b[0m\u001b[37m\u001b[0m \u001b[1m28s\u001b[0m 531ms/step - accuracy: 0.9257 - auc: 0.9789 - loss: 0.1762 - mean_squared_error: 0.0528 - precision_normal: 0.8020 - precision_pneumonia: 0.9774 - recall_normal: 0.9371 - recall_pneumonia: 0.9219 - val_accuracy: 0.8558 - val_auc: 0.9365 - val_loss: 0.3310 - val_mean_squared_error: 0.0983 - val_precision_normal: 0.8077 - val_precision_pneumonia: 0.8846 - val_recall_normal: 0.8077 - val_recall_pneumonia: 0.8846\n",
      "Epoch 3/10\n",
      "\u001b[1m53/53\u001b[0m \u001b[32m━━━━━━━━━━━━━━━━━━━━\u001b[0m\u001b[37m\u001b[0m \u001b[1m28s\u001b[0m 534ms/step - accuracy: 0.9302 - auc: 0.9813 - loss: 0.1705 - mean_squared_error: 0.0502 - precision_normal: 0.8168 - precision_pneumonia: 0.9787 - recall_normal: 0.9428 - recall_pneumonia: 0.9257 - val_accuracy: 0.8478 - val_auc: 0.9366 - val_loss: 0.3316 - val_mean_squared_error: 0.0994 - val_precision_normal: 0.7643 - val_precision_pneumonia: 0.9086 - val_recall_normal: 0.8590 - val_recall_pneumonia: 0.8410\n",
      "Epoch 4/10\n",
      "\u001b[1m53/53\u001b[0m \u001b[32m━━━━━━━━━━━━━━━━━━━━\u001b[0m\u001b[37m\u001b[0m \u001b[1m28s\u001b[0m 534ms/step - accuracy: 0.9314 - auc: 0.9788 - loss: 0.1653 - mean_squared_error: 0.0523 - precision_normal: 0.8190 - precision_pneumonia: 0.9824 - recall_normal: 0.9542 - recall_pneumonia: 0.9229 - val_accuracy: 0.8718 - val_auc: 0.9381 - val_loss: 0.3252 - val_mean_squared_error: 0.0955 - val_precision_normal: 0.8850 - val_precision_pneumonia: 0.8656 - val_recall_normal: 0.7564 - val_recall_pneumonia: 0.9410\n",
      "Epoch 5/10\n",
      "\u001b[1m53/53\u001b[0m \u001b[32m━━━━━━━━━━━━━━━━━━━━\u001b[0m\u001b[37m\u001b[0m \u001b[1m29s\u001b[0m 540ms/step - accuracy: 0.9390 - auc: 0.9835 - loss: 0.1638 - mean_squared_error: 0.0478 - precision_normal: 0.8370 - precision_pneumonia: 0.9798 - recall_normal: 0.9428 - recall_pneumonia: 0.9376 - val_accuracy: 0.8606 - val_auc: 0.9363 - val_loss: 0.3410 - val_mean_squared_error: 0.0997 - val_precision_normal: 0.7882 - val_precision_pneumonia: 0.9106 - val_recall_normal: 0.8590 - val_recall_pneumonia: 0.8615\n",
      "Epoch 6/10\n",
      "\u001b[1m53/53\u001b[0m \u001b[32m━━━━━━━━━━━━━━━━━━━━\u001b[0m\u001b[37m\u001b[0m \u001b[1m29s\u001b[0m 536ms/step - accuracy: 0.9360 - auc: 0.9836 - loss: 0.1511 - mean_squared_error: 0.0471 - precision_normal: 0.8198 - precision_pneumonia: 0.9848 - recall_normal: 0.9582 - recall_pneumonia: 0.9287 - val_accuracy: 0.8670 - val_auc: 0.9327 - val_loss: 0.3750 - val_mean_squared_error: 0.1032 - val_precision_normal: 0.9314 - val_precision_pneumonia: 0.8419 - val_recall_normal: 0.6966 - val_recall_pneumonia: 0.9692\n",
      "Epoch 7/10\n",
      "\u001b[1m53/53\u001b[0m \u001b[32m━━━━━━━━━━━━━━━━━━━━\u001b[0m\u001b[37m\u001b[0m \u001b[1m28s\u001b[0m 533ms/step - accuracy: 0.9560 - auc: 0.9893 - loss: 0.1247 - mean_squared_error: 0.0351 - precision_normal: 0.8760 - precision_pneumonia: 0.9871 - recall_normal: 0.9632 - recall_pneumonia: 0.9535 - val_accuracy: 0.8814 - val_auc: 0.9435 - val_loss: 0.3326 - val_mean_squared_error: 0.0908 - val_precision_normal: 0.8704 - val_precision_pneumonia: 0.8873 - val_recall_normal: 0.8034 - val_recall_pneumonia: 0.9282\n",
      "Epoch 8/10\n",
      "\u001b[1m53/53\u001b[0m \u001b[32m━━━━━━━━━━━━━━━━━━━━\u001b[0m\u001b[37m\u001b[0m \u001b[1m29s\u001b[0m 536ms/step - accuracy: 0.9415 - auc: 0.9847 - loss: 0.1456 - mean_squared_error: 0.0436 - precision_normal: 0.8372 - precision_pneumonia: 0.9823 - recall_normal: 0.9495 - recall_pneumonia: 0.9392 - val_accuracy: 0.8830 - val_auc: 0.9388 - val_loss: 0.3479 - val_mean_squared_error: 0.0953 - val_precision_normal: 0.9399 - val_precision_pneumonia: 0.8594 - val_recall_normal: 0.7350 - val_recall_pneumonia: 0.9718\n",
      "Epoch 9/10\n",
      "\u001b[1m53/53\u001b[0m \u001b[32m━━━━━━━━━━━━━━━━━━━━\u001b[0m\u001b[37m\u001b[0m \u001b[1m29s\u001b[0m 536ms/step - accuracy: 0.9524 - auc: 0.9886 - loss: 0.1374 - mean_squared_error: 0.0374 - precision_normal: 0.8693 - precision_pneumonia: 0.9853 - recall_normal: 0.9590 - recall_pneumonia: 0.9501 - val_accuracy: 0.8718 - val_auc: 0.9317 - val_loss: 0.4022 - val_mean_squared_error: 0.1049 - val_precision_normal: 0.9477 - val_precision_pneumonia: 0.8429 - val_recall_normal: 0.6966 - val_recall_pneumonia: 0.9769\n",
      "Epoch 10/10\n",
      "\u001b[1m53/53\u001b[0m \u001b[32m━━━━━━━━━━━━━━━━━━━━\u001b[0m\u001b[37m\u001b[0m \u001b[1m28s\u001b[0m 534ms/step - accuracy: 0.9544 - auc: 0.9898 - loss: 0.1326 - mean_squared_error: 0.0363 - precision_normal: 0.8740 - precision_pneumonia: 0.9854 - recall_normal: 0.9584 - recall_pneumonia: 0.9530 - val_accuracy: 0.8446 - val_auc: 0.9240 - val_loss: 0.4165 - val_mean_squared_error: 0.1171 - val_precision_normal: 0.9477 - val_precision_pneumonia: 0.8110 - val_recall_normal: 0.6197 - val_recall_pneumonia: 0.9795\n"
     ]
    }
   ],
   "source": [
    "# Entrainement du modèle\n",
    "if params[\"data_augmentation\"]:\n",
    "    model_info = model.fit(\n",
    "        datagen.flow(X_train, y_train, batch_size=params[\"batch_size\"]),\n",
    "        epochs=params[\"epochs\"],\n",
    "        validation_data=(X_test, y_test),\n",
    "        class_weight=class_weight_dict\n",
    "    )\n",
    "else:\n",
    "    model_info = model.fit(\n",
    "        X_train, y_train,\n",
    "        epochs=params[\"epochs\"],\n",
    "        batch_size=params[\"batch_size\"],\n",
    "        validation_data=(X_test, y_test),\n",
    "        class_weight=class_weight_dict\n",
    "    )"
   ]
  },
  {
   "cell_type": "code",
   "execution_count": 8,
   "id": "4be8a567",
   "metadata": {},
   "outputs": [
    {
     "name": "stdout",
     "output_type": "stream",
     "text": [
      "\u001b[1m20/20\u001b[0m \u001b[32m━━━━━━━━━━━━━━━━━━━━\u001b[0m\u001b[37m\u001b[0m \u001b[1m2s\u001b[0m 92ms/step\n"
     ]
    },
    {
     "data": {
      "image/png": "[encoded data removed]",
      "text/plain": [
       "<Figure size 600x400 with 2 Axes>"
      ]
     },
     "metadata": {},
     "output_type": "display_data"
    }
   ],
   "source": [
    "# Matrice de confusion\n",
    "y_test_classes = np.argmax(y_test, axis=1)\n",
    "y_pred = model.predict(X_test)\n",
    "y_pred_classes = np.argmax(y_pred, axis=1)\n",
    "\n",
    "conf_matrix = confusion_matrix(y_test_classes, y_pred_classes)\n",
    "\n",
    "labels = [\"Normal\", \"Pneumonia\"]\n",
    "disp = ConfusionMatrixDisplay(confusion_matrix=conf_matrix, display_labels=labels)\n",
    "\n",
    "fig, ax = plt.subplots(figsize=(6,4))\n",
    "disp.plot(cmap='GnBu', ax=ax) \n",
    "plt.title(\"Confusion matrix\")\n",
    "img_path = \"confusion_matrix.png\"\n",
    "plt.savefig(img_path)\n",
    "plt.show()\n",
    "plt.close()"
   ]
  },
  {
   "cell_type": "code",
   "execution_count": 9,
   "id": "fd0fb4cd",
   "metadata": {},
   "outputs": [
    {
     "name": "stdout",
     "output_type": "stream",
     "text": [
      "\u001b[1m20/20\u001b[0m \u001b[32m━━━━━━━━━━━━━━━━━━━━\u001b[0m\u001b[37m\u001b[0m \u001b[1m1s\u001b[0m 65ms/step - accuracy: 0.7292 - auc: 0.7989 - loss: 0.7215 - mean_squared_error: 0.2023 - precision_normal: 0.9771 - precision_pneumonia: 0.4320 - recall_normal: 0.6226 - recall_pneumonia: 0.6500\n",
      "\u001b[1m20/20\u001b[0m \u001b[32m━━━━━━━━━━━━━━━━━━━━\u001b[0m\u001b[37m\u001b[0m \u001b[1m1s\u001b[0m 62ms/step\n"
     ]
    },
    {
     "data": {
      "application/vnd.jupyter.widget-view+json": {
       "model_id": "7eae24af3b68438ab231086035d75ebd",
       "version_major": 2,
       "version_minor": 0
      },
      "text/plain": [
       "Downloading artifacts:   0%|          | 0/9 [00:00<?, ?it/s]"
      ]
     },
     "metadata": {},
     "output_type": "display_data"
    },
    {
     "name": "stdout",
     "output_type": "stream",
     "text": [
      "\u001b[1m1/1\u001b[0m \u001b[32m━━━━━━━━━━━━━━━━━━━━\u001b[0m\u001b[37m\u001b[0m \u001b[1m1s\u001b[0m 550ms/step\n"
     ]
    },
    {
     "name": "stderr",
     "output_type": "stream",
     "text": [
      "Registered model 'Transfer Learning - MobileNetV2' already exists. Creating a new version of this model...\n",
      "2025/05/27 12:54:24 INFO mlflow.store.model_registry.abstract_store: Waiting up to 300 seconds for model version to finish creation. Model name: Transfer Learning - MobileNetV2, version 2\n",
      "Created version '2' of model 'Transfer Learning - MobileNetV2'.\n"
     ]
    },
    {
     "name": "stdout",
     "output_type": "stream",
     "text": [
      "🏃 View run mobilenetv2#1 at: http://mlflow.cpetit.fr/#/experiments/1/runs/2eef392745c9470fbfecec6554d88341\n",
      "🧪 View experiment at: http://mlflow.cpetit.fr/#/experiments/1\n"
     ]
    }
   ],
   "source": [
    "# Log results into MLFlow\n",
    "results = model.evaluate(X_test, y_test, return_dict=True)\n",
    "mlflow.set_tracking_uri(\"http://mlflow.cpetit.fr/\")\n",
    "experiment = mlflow.set_experiment(experiment_name=experiment_name)\n",
    "run_name = get_run_name(experiment, params[\"model\"])\n",
    "\n",
    "with mlflow.start_run(run_name=run_name) as run:\n",
    "    run_id = run.info.run_id\n",
    "\n",
    "    # Log dataset\n",
    "    mlflow.log_param(\"dataset_url\", \"https://www.kaggle.com/datasets/paultimothymooney/chest-xray-pneumonia\")\n",
    "    mlflow.set_tag(\"dataset\", \"chest-xray-pneumonia\")\n",
    "\n",
    "    # Log parameters\n",
    "    mlflow.log_params(params)\n",
    "    for i, added_layer in enumerate(added_layers):\n",
    "         mlflow.log_params({\n",
    "            f\"added_layer_{i}\": added_layer\n",
    "        })\n",
    "    # Log training metrics\n",
    "    for epoch in range(len(model_info.history['loss'])):\n",
    "        for metric_name, values in model_info.history.items():\n",
    "            mlflow.log_metric(f\"training {metric_name}\", values[epoch], step=epoch)\n",
    "    # Log final metrics\n",
    "    mlflow.log_metrics(\n",
    "        results\n",
    "    )\n",
    "    # Log confusion matrix\n",
    "    mlflow.log_artifact(img_path, artifact_path=\"confusion_matrix\")\n",
    "    # Log model\n",
    "    mlflow.tensorflow.log_model(\n",
    "            model=model,\n",
    "            artifact_path=model_name,\n",
    "            input_example=X_test[:5],\n",
    "            signature = infer_signature(X_test, model.predict(X_test))\n",
    "        )\n",
    "\n",
    "    model_uri = f\"runs:/{run_id}/{model_name}\"\n",
    "    mlflow.register_model(model_uri=model_uri, name=model_name)"
   ]
  },
  {
   "cell_type": "code",
   "execution_count": null,
   "id": "dfa22032",
   "metadata": {},
   "outputs": [],
   "source": [
    "# Load a model\n",
    "model_name = input(\"Enter model name\")\n",
    "model_version = int(input(\"Enter model version\"))\n",
    "alias = \"challenger\"\n",
    "\n",
    "model_uri = f\"models:/{model_name}/{model_version}\"\n",
    "\n",
    "loaded_model = mlflow.tensorflow.load_model(model_uri)\n",
    "\n",
    "y_pred = loaded_model.predict(X_val)\n",
    "show_predictions(X_val, y_pred, y_true=y_val, class_names=[\"normal\", \"malade\"], n_images=10)"
   ]
  },
  {
   "cell_type": "code",
   "execution_count": null,
   "id": "b7714ef6",
   "metadata": {},
   "outputs": [],
   "source": [
    "# Modele plug and play\n",
    "model = xrv.models.DenseNet(weights=\"densenet121-res224-all\")\n",
    "model.eval()  # mode évaluation (pas d'entraînement)\n",
    "\n",
    "transform = transforms.Compose([\n",
    "    transforms.Resize((224, 224)),\n",
    "    transforms.ToTensor(),\n",
    "    transforms.Normalize(mean=[0.481], std=[0.226])  # mean/std de torchxrayvision pour chest X-rays\n",
    "])\n",
    "\n",
    "def preprocess_batch(X_np):\n",
    "    # X_np : numpy array shape (N, 224, 224, 1), dtype uint8 ou float\n",
    "\n",
    "    # 1) Convertir en float32\n",
    "    X_np = X_np.astype('float32')\n",
    "\n",
    "    # 2) Normaliser : pixel/255 -> [0,1]\n",
    "    X_np /= 255.0\n",
    "\n",
    "    # 3) Normaliser avec mean/std\n",
    "    X_np = (X_np - mean) / std\n",
    "\n",
    "    # 4) Convertir en torch tensor et permuter les dimensions pour (N, C, H, W)\n",
    "    X_tensor = torch.from_numpy(X_np).permute(0, 3, 1, 2)  # (N,1,224,224)\n",
    "\n",
    "    return X_tensor\n",
    "\n",
    "X_test_tensor = preprocess_batch(X_test)\n",
    "\n",
    "model.eval()\n",
    "with torch.no_grad():\n",
    "    outputs = model(X_test_tensor)  # shape (N, 18)\n",
    "\n",
    "pneumonia_scores = outputs[:, 7].cpu().numpy()\n",
    "print(pneumonia_scores[:10])"
   ]
  }
 ],
 "metadata": {
  "kernelspec": {
   "display_name": ".venv",
   "language": "python",
   "name": "python3"
  },
  "language_info": {
   "codemirror_mode": {
    "name": "ipython",
    "version": 3
   },
   "file_extension": ".py",
   "mimetype": "text/x-python",
   "name": "python",
   "nbconvert_exporter": "python",
   "pygments_lexer": "ipython3",
   "version": "3.10.0rc2"
  }
 },
 "nbformat": 4,
 "nbformat_minor": 5
}
